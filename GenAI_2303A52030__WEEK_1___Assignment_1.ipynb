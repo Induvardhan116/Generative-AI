{
  "nbformat": 4,
  "nbformat_minor": 0,
  "metadata": {
    "colab": {
      "provenance": [],
      "include_colab_link": true
    },
    "kernelspec": {
      "name": "python3",
      "display_name": "Python 3"
    },
    "language_info": {
      "name": "python"
    }
  },
  "cells": [
    {
      "cell_type": "markdown",
      "metadata": {
        "id": "view-in-github",
        "colab_type": "text"
      },
      "source": [
        "<a href=\"https://colab.research.google.com/github/Induvardhan116/Generative-AI/blob/main/GenAI_2303A52030__WEEK_1___Assignment_1.ipynb\" target=\"_parent\"><img src=\"https://colab.research.google.com/assets/colab-badge.svg\" alt=\"Open In Colab\"/></a>"
      ]
    },
    {
      "cell_type": "code",
      "execution_count": 1,
      "metadata": {
        "colab": {
          "base_uri": "https://localhost:8080/"
        },
        "id": "JoekMCi3LlHI",
        "outputId": "c24a49b9-5758-4f81-9b6a-ce293a10e0fb"
      },
      "outputs": [
        {
          "output_type": "stream",
          "name": "stdout",
          "text": [
            "[20, 30, 40, 50, 60]\n",
            "[20.5, 30.3, 40.2, 50.6, 60.7]\n"
          ]
        }
      ],
      "source": [
        "# Questions:-1\n",
        "\n",
        "import pandas as pd\n",
        "import numpy as np\n",
        "import matplotlib.pyplot as plt\n",
        "y=[20,30,40,50,60]\n",
        "yp=[20.5,30.3,40.2,50.6,60.7]\n",
        "print(y)\n",
        "print(yp)"
      ]
    },
    {
      "cell_type": "code",
      "source": [
        "from sklearn.metrics import mean_squared_error\n",
        "import matplotlib.pyplot as plt\n",
        "mse=mean_squared_error(y,yp)\n",
        "mse"
      ],
      "metadata": {
        "colab": {
          "base_uri": "https://localhost:8080/"
        },
        "id": "CAHzHAQRYfND",
        "outputId": "3256a98d-2aad-4db5-a77f-57e185a89237"
      },
      "execution_count": 2,
      "outputs": [
        {
          "output_type": "execute_result",
          "data": {
            "text/plain": [
              "0.24600000000000147"
            ]
          },
          "metadata": {},
          "execution_count": 2
        }
      ]
    },
    {
      "cell_type": "code",
      "source": [
        "from sklearn.metrics import mean_absolute_error\n",
        "mae=mean_absolute_error(y,yp)\n",
        "mae"
      ],
      "metadata": {
        "colab": {
          "base_uri": "https://localhost:8080/"
        },
        "id": "4CIBxP5DYtxW",
        "outputId": "26b9e186-7fe8-4921-cc97-6dde414a483f"
      },
      "execution_count": 3,
      "outputs": [
        {
          "output_type": "execute_result",
          "data": {
            "text/plain": [
              "0.4600000000000016"
            ]
          },
          "metadata": {},
          "execution_count": 3
        }
      ]
    },
    {
      "cell_type": "code",
      "source": [
        "from sklearn .metrics import root_mean_squared_error\n",
        "rmse=root_mean_squared_error(y,yp)\n",
        "rmse"
      ],
      "metadata": {
        "colab": {
          "base_uri": "https://localhost:8080/"
        },
        "id": "LXdp69XOY5Jo",
        "outputId": "f378627c-f542-439e-fc11-f2c97708d536"
      },
      "execution_count": 4,
      "outputs": [
        {
          "output_type": "execute_result",
          "data": {
            "text/plain": [
              "0.49598387070549127"
            ]
          },
          "metadata": {},
          "execution_count": 4
        }
      ]
    },
    {
      "cell_type": "code",
      "source": [
        "y = np.array(y)\n",
        "yp = np.array(yp)\n",
        "mse=(y-yp)**2\n",
        "print(mse)"
      ],
      "metadata": {
        "colab": {
          "base_uri": "https://localhost:8080/"
        },
        "id": "ty6M57b9Y9BH",
        "outputId": "6a6f0fb6-a188-469f-bbfe-954637a66b2a"
      },
      "execution_count": 5,
      "outputs": [
        {
          "output_type": "stream",
          "name": "stdout",
          "text": [
            "[0.25 0.09 0.04 0.36 0.49]\n"
          ]
        }
      ]
    },
    {
      "cell_type": "code",
      "source": [
        "y = np.array([20, 30, 40, 50, 60])\n",
        "yp = np.array([20.5, 30.3, 40.2, 50.6, 60.7])\n",
        "mean=np.mean(y)\n",
        "mean=np.mean(yp)\n",
        "print(mean)\n",
        "squared_errors = (y - yp) ** 2\n",
        "mse = np.mean(squared_errors)\n",
        "mse"
      ],
      "metadata": {
        "colab": {
          "base_uri": "https://localhost:8080/"
        },
        "id": "1qQCekryY9zq",
        "outputId": "67f20bf1-fae0-4790-eb44-6334a6fb7a03"
      },
      "execution_count": 6,
      "outputs": [
        {
          "output_type": "stream",
          "name": "stdout",
          "text": [
            "40.46\n"
          ]
        },
        {
          "output_type": "execute_result",
          "data": {
            "text/plain": [
              "0.24600000000000147"
            ]
          },
          "metadata": {},
          "execution_count": 6
        }
      ]
    },
    {
      "cell_type": "code",
      "source": [
        "# Questions:-2\n",
        "\n",
        "import numpy as np\n",
        "y = np.array([20, 30, 40, 50, 60])\n",
        "yp = np.array([20.5, 30.3, 40.2, 50.6, 60.7])\n",
        "mean = np.mean(y)\n",
        "mean = np.mean(yp)\n",
        "absolute_errors = np.abs(y - yp)\n",
        "mae = np.mean(absolute_errors)\n",
        "mae"
      ],
      "metadata": {
        "colab": {
          "base_uri": "https://localhost:8080/"
        },
        "id": "9kDpH8wkY9ph",
        "outputId": "78346eab-6368-4b96-b759-58cfdd56afba"
      },
      "execution_count": 7,
      "outputs": [
        {
          "output_type": "execute_result",
          "data": {
            "text/plain": [
              "0.4600000000000016"
            ]
          },
          "metadata": {},
          "execution_count": 7
        }
      ]
    },
    {
      "cell_type": "code",
      "source": [
        "import numpy as np\n",
        "y = np.array([20, 30, 40, 50, 60])\n",
        "yp = np.array([20.5, 30.3, 40.2, 50.6, 60.7])\n",
        "mean = np.mean(y)\n",
        "mean = np.mean(yp)\n",
        "rmse = np.sqrt(mean_squared_error(y, yp))\n",
        "rmse"
      ],
      "metadata": {
        "colab": {
          "base_uri": "https://localhost:8080/"
        },
        "id": "k3CceRrIY9eT",
        "outputId": "12c91484-27e1-4726-8ac9-335a457280fb"
      },
      "execution_count": 8,
      "outputs": [
        {
          "output_type": "execute_result",
          "data": {
            "text/plain": [
              "0.49598387070549127"
            ]
          },
          "metadata": {},
          "execution_count": 8
        }
      ]
    },
    {
      "cell_type": "code",
      "source": [
        "import numpy as np\n",
        "from sklearn.metrics import classification_report, accuracy_score, precision_score, recall_score, f1_score\n",
        "Y_actual = np.array([0, 0, 1, 1, 2, 0, 0, 0, 1, 0, 2, 0, 0, 1, 1, 2, 2, 1, 0, 2, 1, 0, 2, 2, 0])\n",
        "Y_pred = np.array([0, 0, 1, 0, 2, 0, 0, 1, 1, 2, 2, 1, 0, 2, 1, 2, 2, 2, 0, 2, 1, 2, 2, 2, 2])\n",
        "accuracy_scratch = sum(Y_actual == Y_pred) / len(Y_actual)\n",
        "classes = set(Y_actual)\n",
        "precision_scratch = []\n",
        "recall_scratch = []\n",
        "f1_scratch = []\n",
        "for cls in classes:\n",
        "    tp = sum((Y_actual == cls) & (Y_pred == cls))\n",
        "    fp = sum((Y_actual != cls) & (Y_pred == cls))\n",
        "    fn = sum((Y_actual == cls) & (Y_pred != cls))\n",
        "    precision = tp / (tp + fp) if tp + fp > 0 else 0\n",
        "    recall = tp / (tp + fn) if tp + fn > 0 else 0\n",
        "    f1 = 2 * precision * recall / (precision + recall) if precision + recall > 0 else 0\n",
        "\n",
        "    precision_scratch.append(precision)\n",
        "    recall_scratch.append(recall)\n",
        "    f1_scratch.append(f1)\n",
        "precision_macro = sum(precision_scratch) / len(classes)\n",
        "recall_macro = sum(recall_scratch) / len(classes)\n",
        "f1_macro = sum(f1_scratch) / len(classes)\n",
        "accuracy_library = accuracy_score(Y_actual, Y_pred)\n",
        "precision_library = precision_score(Y_actual, Y_pred, average='macro')\n",
        "recall_library = recall_score(Y_actual, Y_pred, average='macro')\n",
        "f1_library = f1_score(Y_actual, Y_pred, average='macro')\n",
        "print(\"Evaluation Metrics from Scratch:\")\n",
        "print(f\"Accuracy: {accuracy_scratch}\")\n",
        "print(f\"Precision: {precision_macro}\")\n",
        "print(f\"Recall: {recall_macro}\")\n",
        "print(f\"F1-Score: {f1_macro}\")\n",
        "\n",
        "print(\"\\nEvaluation Metrics from Libraries:\")\n",
        "print(f\"Accuracy: {accuracy_library}\")\n",
        "print(f\"Precision: {precision_library}\")\n",
        "print(f\"Recall: {recall_library}\")\n",
        "print(f\"F1-Score: {f1_library}\")"
      ],
      "metadata": {
        "colab": {
          "base_uri": "https://localhost:8080/"
        },
        "id": "QmHr8P3EZRAF",
        "outputId": "159f41a2-56d5-4fd1-b1e6-c7361261517e"
      },
      "execution_count": 9,
      "outputs": [
        {
          "output_type": "stream",
          "name": "stdout",
          "text": [
            "Evaluation Metrics from Scratch:\n",
            "Accuracy: 0.68\n",
            "Precision: 0.7023809523809524\n",
            "Recall: 0.7056277056277057\n",
            "F1-Score: 0.6729644624381467\n",
            "\n",
            "Evaluation Metrics from Libraries:\n",
            "Accuracy: 0.68\n",
            "Precision: 0.7023809523809524\n",
            "Recall: 0.7056277056277057\n",
            "F1-Score: 0.6729644624381467\n"
          ]
        }
      ]
    },
    {
      "cell_type": "code",
      "source": [],
      "metadata": {
        "id": "rDw_tiBQZsNM"
      },
      "execution_count": 9,
      "outputs": []
    }
  ]
}